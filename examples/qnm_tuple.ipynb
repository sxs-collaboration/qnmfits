{
 "cells": [
  {
   "cell_type": "code",
   "execution_count": 1,
   "id": "303b2d2e",
   "metadata": {},
   "outputs": [],
   "source": [
    "import sys, os\n",
    "sys.path.insert(0,'/Library/Frameworks/Python.framework/Versions/3.10/lib/python3.10/site-packages/')\n",
    "sys.path.insert(0,'../')\n",
    "sys.path.insert(0,'/Users/Lorena/UM_research/qnmfits/qnmfits/')"
   ]
  },
  {
   "cell_type": "code",
   "execution_count": 2,
   "id": "05bf2aa7",
   "metadata": {},
   "outputs": [],
   "source": [
    "from read_qnms import *\n",
    "from read_waveforms import *"
   ]
  },
  {
   "cell_type": "markdown",
   "id": "35cd9e66",
   "metadata": {},
   "source": [
    "## Find frequencies and spherical-spheroidal mixing coefficients"
   ]
  },
  {
   "cell_type": "code",
   "execution_count": 3,
   "id": "1e75617f",
   "metadata": {},
   "outputs": [
    {
     "name": "stdout",
     "output_type": "stream",
     "text": [
      "(0.4834614853916026-0.08920711977923464j)\n"
     ]
    }
   ],
   "source": [
    "omega, C, _ = qnm_from_tuple((2,2,0,+1), 0.5, .96, s=-2)\n",
    "print(omega)"
   ]
  },
  {
   "cell_type": "code",
   "execution_count": 4,
   "id": "36c81593",
   "metadata": {},
   "outputs": [
    {
     "data": {
      "text/plain": [
       "[(0.4834614853916026-0.08920711977923464j),\n",
       " (0.7223337446384549-0.09300036874677187j),\n",
       " (0.9446443427908068-0.0949548198294789j)]"
      ]
     },
     "execution_count": 4,
     "metadata": {},
     "output_type": "execute_result"
    }
   ],
   "source": [
    "mode_list = [(2,2,0,+1), (3,2,0,+1), (4,2,0,+1)]\n",
    "[qnm_from_tuple(tup, 0.5, .96, s=-2)[0] for tup in mode_list]"
   ]
  },
  {
   "cell_type": "code",
   "execution_count": 5,
   "id": "bbbf498f",
   "metadata": {},
   "outputs": [
    {
     "name": "stdout",
     "output_type": "stream",
     "text": [
      "(0.3010183388-1.6659917852j)\n"
     ]
    }
   ],
   "source": [
    "omega, ells, C = qnm_from_tuple((2,2,8,+1), 0.5, .96, s=-2)\n",
    "print(omega)"
   ]
  }
 ],
 "metadata": {
  "kernelspec": {
   "display_name": "Python 3 (ipykernel)",
   "language": "python",
   "name": "python3"
  },
  "language_info": {
   "codemirror_mode": {
    "name": "ipython",
    "version": 3
   },
   "file_extension": ".py",
   "mimetype": "text/x-python",
   "name": "python",
   "nbconvert_exporter": "python",
   "pygments_lexer": "ipython3",
   "version": "3.10.8"
  }
 },
 "nbformat": 4,
 "nbformat_minor": 5
}
