{
 "cells": [
  {
   "cell_type": "code",
   "execution_count": 1,
   "id": "0b62769c-751c-4082-b8b8-ff9c5fafa73c",
   "metadata": {},
   "outputs": [],
   "source": [
    "import numpy as np\n",
    "import matplotlib.pyplot as plt\n",
    "\n",
    "import sxs\n",
    "import qnmfits"
   ]
  },
  {
   "cell_type": "markdown",
   "id": "8f993976-e200-4edf-ac91-c3b8a198c357",
   "metadata": {},
   "source": [
    "### The `sxs` package lets us easily load SXS waveforms:"
   ]
  },
  {
   "cell_type": "code",
   "execution_count": 2,
   "id": "f18c959a-a1cd-49c9-a220-ce7c9fdac7eb",
   "metadata": {},
   "outputs": [
    {
     "name": "stdout",
     "output_type": "stream",
     "text": [
      "Skipping download from 'https://data.black-holes.org/catalog.json' because local file is newer\n",
      "Found the following files to load from the SXS catalog:\n",
      "    SXS:BBH:0305v5/Lev6/rhOverM_Asymptotic_GeometricUnits_CoM.h5\n"
     ]
    },
    {
     "data": {
      "text/plain": [
       "sxs.waveforms.waveform_modes.WaveformModes"
      ]
     },
     "execution_count": 2,
     "metadata": {},
     "output_type": "execute_result"
    }
   ],
   "source": [
    "h = sxs.load('SXS:BBH:0305/Lev/rhOverM', extrapolation_order=2)\n",
    "type(h)"
   ]
  },
  {
   "cell_type": "markdown",
   "id": "e9c66130-17e2-4b31-9d65-35577758de68",
   "metadata": {},
   "source": [
    "The returned object is already a `WaveformModes` object, which has lots of handy methods (see the `scri` documentation [here](https://scri.readthedocs.io/en/latest/_autosummary/scri.html#scri.WaveformModes))."
   ]
  },
  {
   "cell_type": "code",
   "execution_count": 3,
   "id": "6550b4ac-d4f2-447d-8d46-8a44c19189b5",
   "metadata": {},
   "outputs": [],
   "source": [
    "# Shift the time array of the WaveformModes object so that zero is at the peak\n",
    "h.t -= h.max_norm_time()"
   ]
  },
  {
   "cell_type": "code",
   "execution_count": 4,
   "id": "d040216e-1828-4492-a19d-51f5f61b2f82",
   "metadata": {},
   "outputs": [
    {
     "name": "stdout",
     "output_type": "stream",
     "text": [
      "Found the following files to load from the SXS catalog:\n",
      "    SXS:BBH:0305v5/Lev6/metadata.json\n"
     ]
    }
   ],
   "source": [
    "# We can also easily load metadata associated with the simulation\n",
    "metadata = sxs.load('SXS:BBH:0305/Lev/metadata.json')"
   ]
  },
  {
   "cell_type": "code",
   "execution_count": 5,
   "id": "4e7952da-f96f-48ba-b04e-85b0346a80fe",
   "metadata": {},
   "outputs": [],
   "source": [
    "Mf = metadata.remnant_mass\n",
    "chif = np.linalg.norm(metadata.remnant_dimensionless_spin)"
   ]
  },
  {
   "cell_type": "markdown",
   "id": "b9a4a755-8312-4f11-8835-77e16ecc3385",
   "metadata": {},
   "source": [
    "### Perform a seven overtone fit to the $h_{22}$ mode using the `qnmfits` package:"
   ]
  },
  {
   "cell_type": "code",
   "execution_count": 6,
   "id": "7f36257c-fc47-4064-82fd-11a0fe7f1f7a",
   "metadata": {},
   "outputs": [
    {
     "ename": "AttributeError",
     "evalue": "module 'qnmfits' has no attribute 'ringdown_fit'",
     "output_type": "error",
     "traceback": [
      "\u001b[0;31m---------------------------------------------------------------------------\u001b[0m",
      "\u001b[0;31mAttributeError\u001b[0m                            Traceback (most recent call last)",
      "Cell \u001b[0;32mIn[6], line 5\u001b[0m\n\u001b[1;32m      2\u001b[0m qnms \u001b[38;5;241m=\u001b[39m [(\u001b[38;5;241m2\u001b[39m,\u001b[38;5;241m2\u001b[39m,n,\u001b[38;5;241m1\u001b[39m) \u001b[38;5;28;01mfor\u001b[39;00m n \u001b[38;5;129;01min\u001b[39;00m \u001b[38;5;28mrange\u001b[39m(\u001b[38;5;241m7\u001b[39m\u001b[38;5;241m+\u001b[39m\u001b[38;5;241m1\u001b[39m)]\n\u001b[1;32m      3\u001b[0m t0 \u001b[38;5;241m=\u001b[39m \u001b[38;5;241m0\u001b[39m\n\u001b[0;32m----> 5\u001b[0m best_fit \u001b[38;5;241m=\u001b[39m \u001b[43mqnmfits\u001b[49m\u001b[38;5;241;43m.\u001b[39;49m\u001b[43mringdown_fit\u001b[49m(\n\u001b[1;32m      6\u001b[0m     h,\n\u001b[1;32m      7\u001b[0m     spherical_mode,\n\u001b[1;32m      8\u001b[0m     qnms,\n\u001b[1;32m      9\u001b[0m     Mf\u001b[38;5;241m=\u001b[39mMf,\n\u001b[1;32m     10\u001b[0m     chif\u001b[38;5;241m=\u001b[39mchif,\n\u001b[1;32m     11\u001b[0m     t0\u001b[38;5;241m=\u001b[39mt0\n\u001b[1;32m     12\u001b[0m )\n\u001b[1;32m     14\u001b[0m \u001b[38;5;66;03m# The result is a dictionary with useful information\u001b[39;00m\n\u001b[1;32m     15\u001b[0m \u001b[38;5;28mlist\u001b[39m(best_fit\u001b[38;5;241m.\u001b[39mkeys())\n",
      "\u001b[0;31mAttributeError\u001b[0m: module 'qnmfits' has no attribute 'ringdown_fit'"
     ]
    }
   ],
   "source": [
    "spherical_mode = (2,2)\n",
    "qnms = [(2,2,n,1) for n in range(7+1)]\n",
    "t0 = 0\n",
    "\n",
    "best_fit = qnmfits.ringdown_fit(\n",
    "    h,\n",
    "    spherical_mode,\n",
    "    qnms,\n",
    "    Mf=Mf,\n",
    "    chif=chif,\n",
    "    t0=t0\n",
    ")\n",
    "\n",
    "# The result is a dictionary with useful information\n",
    "list(best_fit.keys())"
   ]
  },
  {
   "cell_type": "code",
   "execution_count": 7,
   "id": "f510be3b",
   "metadata": {},
   "outputs": [
    {
     "ename": "IndexError",
     "evalue": "index 4 is out of bounds for axis 1 with size 3",
     "output_type": "error",
     "traceback": [
      "\u001b[0;31m---------------------------------------------------------------------------\u001b[0m",
      "\u001b[0;31mIndexError\u001b[0m                                Traceback (most recent call last)",
      "Cell \u001b[0;32mIn[7], line 1\u001b[0m\n\u001b[0;32m----> 1\u001b[0m best_fit \u001b[38;5;241m=\u001b[39m \u001b[43mqnmfits\u001b[49m\u001b[38;5;241;43m.\u001b[39;49m\u001b[43mfit_W_modes\u001b[49m\u001b[43m(\u001b[49m\n\u001b[1;32m      2\u001b[0m \u001b[43m    \u001b[49m\u001b[43mh\u001b[49m\u001b[43m,\u001b[49m\n\u001b[1;32m      3\u001b[0m \u001b[43m    \u001b[49m\u001b[43mchif\u001b[49m\u001b[43m,\u001b[49m\n\u001b[1;32m      4\u001b[0m \u001b[43m    \u001b[49m\u001b[43mMf\u001b[49m\u001b[43m,\u001b[49m\n\u001b[1;32m      5\u001b[0m \u001b[43m    \u001b[49m\u001b[43mqnms\u001b[49m\u001b[43m,\u001b[49m\n\u001b[1;32m      6\u001b[0m \u001b[43m    \u001b[49m\u001b[43mt0\u001b[49m\n\u001b[1;32m      7\u001b[0m \u001b[43m)\u001b[49m\n",
      "File \u001b[0;32m~/Documents/Research/Ringdown/sxs-collaboration/qnmfits/qnmfits/qnmfits.py:446\u001b[0m, in \u001b[0;36mfit_W_modes\u001b[0;34m(W, chi, M, mode_labels, t_0, t_ref)\u001b[0m\n\u001b[1;32m    443\u001b[0m B \u001b[38;5;241m=\u001b[39m np\u001b[38;5;241m.\u001b[39mzeros((\u001b[38;5;28mlen\u001b[39m(W\u001b[38;5;241m.\u001b[39mt),ell_max_m\u001b[38;5;241m-\u001b[39m\u001b[38;5;241m1\u001b[39m, \u001b[38;5;28mlen\u001b[39m(mode_labels_m)), dtype\u001b[38;5;241m=\u001b[39m\u001b[38;5;28mcomplex\u001b[39m)\n\u001b[1;32m    445\u001b[0m W_trunc \u001b[38;5;241m=\u001b[39m W[:,:ell_max_m\u001b[38;5;241m+\u001b[39m\u001b[38;5;241m1\u001b[39m]\n\u001b[0;32m--> 446\u001b[0m A \u001b[38;5;241m=\u001b[39m \u001b[43mW_trunc\u001b[49m\u001b[38;5;241;43m.\u001b[39;49m\u001b[43mdata\u001b[49m\u001b[43m[\u001b[49m\u001b[43m:\u001b[49m\u001b[43m,\u001b[49m\u001b[43m \u001b[49m\u001b[43mdata_index_m\u001b[49m\u001b[43m]\u001b[49m\n\u001b[1;32m    447\u001b[0m \u001b[38;5;28;01mfor\u001b[39;00m mode_index, label \u001b[38;5;129;01min\u001b[39;00m \u001b[38;5;28menumerate\u001b[39m(mode_labels_m):\n\u001b[1;32m    448\u001b[0m     tmp_mode_dict \u001b[38;5;241m=\u001b[39m {label: \u001b[38;5;241m1.\u001b[39m}\n",
      "\u001b[0;31mIndexError\u001b[0m: index 4 is out of bounds for axis 1 with size 3"
     ]
    }
   ],
   "source": [
    "best_fit = qnmfits.fit_W_modes(\n",
    "    h,\n",
    "    chif,\n",
    "    Mf,\n",
    "    qnms,\n",
    "    t0\n",
    ")"
   ]
  },
  {
   "cell_type": "code",
   "execution_count": null,
   "id": "79f06883",
   "metadata": {},
   "outputs": [],
   "source": []
  },
  {
   "cell_type": "code",
   "execution_count": null,
   "id": "5505ef67",
   "metadata": {},
   "outputs": [],
   "source": []
  },
  {
   "cell_type": "markdown",
   "id": "a843ae8b-bbb9-474f-9fca-e4d55d5eed69",
   "metadata": {},
   "source": [
    "### Plot the best fit waveform and QNM amplitudes:"
   ]
  },
  {
   "cell_type": "code",
   "execution_count": null,
   "id": "83bdba5b-9b90-45e9-b2fe-9f0a120bd896",
   "metadata": {},
   "outputs": [],
   "source": [
    "# Create figure\n",
    "fig, ax = plt.subplots(dpi=100)\n",
    "\n",
    "# The SXS data\n",
    "ax.plot(h.t, np.real(h.data[:, h.index(2,2)]), 'k', label='Data')\n",
    "\n",
    "# Our best fit model\n",
    "ax.plot(best_fit['times'], np.real(best_fit['model']), 'r--', label='Model')\n",
    "\n",
    "ax.set_xlim(t0-10, t0+110)\n",
    "\n",
    "ax.set_xlabel('$t\\ [M]$')\n",
    "ax.set_ylabel(rf'$\\mathrm{{Re}}[h_{{{spherical_mode[0]}{spherical_mode[1]}}}]$')\n",
    "\n",
    "_ = ax.legend()"
   ]
  },
  {
   "cell_type": "code",
   "execution_count": null,
   "id": "c08d2078-1346-47fc-9782-12dee01ac9ad",
   "metadata": {},
   "outputs": [],
   "source": [
    "# Get the amplitudes from the complex coefficients\n",
    "amplitudes = abs(best_fit['C'])\n",
    "\n",
    "# x-axis values, useful for plotting\n",
    "x = np.arange(len(amplitudes))\n",
    "\n",
    "# Create figure\n",
    "fig, ax = plt.subplots(dpi=100)\n",
    "\n",
    "for i in range(len(amplitudes)):\n",
    "    ax.plot(\n",
    "        [x[i],x[i]], [0,amplitudes[i]], color=f'C{i}', marker='o', \n",
    "        markevery=(1,2), linestyle=':')\n",
    "\n",
    "ax.set_xticks(x)\n",
    "ax.set_xticklabels(qnms)\n",
    "ax.tick_params(axis='x', rotation=90)\n",
    "\n",
    "ax.set_xlabel('Mode')\n",
    "_ = ax.set_ylabel('$|C|$')"
   ]
  },
  {
   "cell_type": "markdown",
   "id": "5dcb05ed-b397-49a1-a700-95c818098617",
   "metadata": {},
   "source": [
    "### Perform a multimode fit to the $m = 2$ modes:"
   ]
  },
  {
   "cell_type": "code",
   "execution_count": null,
   "id": "f93ce047-fb41-4ce9-8e6f-9a5452b54fed",
   "metadata": {},
   "outputs": [],
   "source": [
    "qnms = [(l,2,0,1) for l in range(2,4+1)]\n",
    "spherical_modes = [(2,2),(3,2),(4,2)]\n",
    "t0 = 30\n",
    "\n",
    "best_fit = qnmfits.multimode_ringdown_fit(\n",
    "    h,\n",
    "    spherical_modes,\n",
    "    qnms,\n",
    "    Mf=Mf,\n",
    "    chif=chif,\n",
    "    t0=t0\n",
    ")\n",
    "\n",
    "# The result is a dictionary with useful information\n",
    "list(best_fit.keys())"
   ]
  },
  {
   "cell_type": "code",
   "execution_count": null,
   "id": "c6f7c15b-fbbb-424a-9a8a-059510ce0b59",
   "metadata": {},
   "outputs": [],
   "source": [
    "# Create figure\n",
    "fig, ax = plt.subplots(dpi=100)\n",
    "\n",
    "# The SXS data\n",
    "ax.plot(h.t, np.real(h.data[:, h.index(2,2)]), 'k', label='Data')\n",
    "\n",
    "# Our best fit model\n",
    "ax.plot(best_fit['times'], np.real(best_fit['model'][2,2]), 'r--', label='Model')\n",
    "\n",
    "ax.set_xlim(t0-10, t0+110)\n",
    "\n",
    "ax.set_xlabel('$t\\ [M]$')\n",
    "ax.set_ylabel(rf'$\\mathrm{{Re}}[h_{{{spherical_mode[0]}{spherical_mode[1]}}}]$')\n",
    "\n",
    "_ = ax.legend()"
   ]
  },
  {
   "cell_type": "code",
   "execution_count": null,
   "id": "5f8bb20a-df3d-4631-a909-46a3514300e0",
   "metadata": {},
   "outputs": [],
   "source": [
    "# Get the amplitudes from the complex coefficients\n",
    "amplitudes = abs(best_fit['C'])\n",
    "\n",
    "# x-axis values, useful for plotting\n",
    "x = np.arange(len(amplitudes))\n",
    "\n",
    "# Create figure\n",
    "fig, ax = plt.subplots(dpi=100)\n",
    "\n",
    "for i in range(len(amplitudes)):\n",
    "    ax.plot(\n",
    "        [x[i],x[i]], [0,amplitudes[i]], color=f'C{i}', marker='o', \n",
    "        markevery=(1,2), linestyle=':')\n",
    "\n",
    "ax.set_xticks(x)\n",
    "ax.set_xticklabels(qnms)\n",
    "ax.tick_params(axis='x', rotation=90)\n",
    "\n",
    "ax.set_xlabel('Mode')\n",
    "_ = ax.set_ylabel('$|C|$')"
   ]
  }
 ],
 "metadata": {
  "kernelspec": {
   "display_name": "Python 3",
   "language": "python",
   "name": "python3"
  },
  "language_info": {
   "codemirror_mode": {
    "name": "ipython",
    "version": 3
   },
   "file_extension": ".py",
   "mimetype": "text/x-python",
   "name": "python",
   "nbconvert_exporter": "python",
   "pygments_lexer": "ipython3",
   "version": "3.10.12"
  }
 },
 "nbformat": 4,
 "nbformat_minor": 5
}
