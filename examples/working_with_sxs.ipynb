{
 "cells": [
  {
   "cell_type": "code",
   "execution_count": 1,
   "id": "0b62769c-751c-4082-b8b8-ff9c5fafa73c",
   "metadata": {},
   "outputs": [],
   "source": [
    "import numpy as np\n",
    "import matplotlib.pyplot as plt\n",
    "import sys\n",
    "sys.path.insert(0,'/Library/Frameworks/Python.framework/Versions/3.10/lib/python3.10/site-packages')\n",
    "sys.path.insert(0,'../')\n",
    "\n",
    "import sxs\n",
    "import spherical_functions as sf\n",
    "import quaternion\n",
    "import qnmfits\n",
    "\n",
    "sys.path.insert(0,'../qnmfits')\n",
    "import read_waveforms\n"
   ]
  },
  {
   "cell_type": "markdown",
   "id": "8f993976-e200-4edf-ac91-c3b8a198c357",
   "metadata": {},
   "source": [
    "### The `sxs` package lets us easily load SXS waveforms:"
   ]
  },
  {
   "cell_type": "code",
   "execution_count": 2,
   "id": "f18c959a-a1cd-49c9-a220-ce7c9fdac7eb",
   "metadata": {},
   "outputs": [
    {
     "name": "stderr",
     "output_type": "stream",
     "text": [
      "/Library/Frameworks/Python.framework/Versions/3.10/lib/python3.10/site-packages/tqdm/auto.py:22: TqdmWarning: IProgress not found. Please update jupyter and ipywidgets. See https://ipywidgets.readthedocs.io/en/stable/user_install.html\n",
      "  from .autonotebook import tqdm as notebook_tqdm\n"
     ]
    },
    {
     "name": "stdout",
     "output_type": "stream",
     "text": [
      "Skipping download from 'https://data.black-holes.org/catalog.json' because local file is newer\n",
      "Found the following files to load from the SXS catalog:\n",
      "    SXS:BBH:0305v5/Lev6/rhOverM_Asymptotic_GeometricUnits_CoM.h5\n"
     ]
    },
    {
     "data": {
      "text/plain": [
       "sxs.waveforms.waveform_modes.WaveformModes"
      ]
     },
     "execution_count": 2,
     "metadata": {},
     "output_type": "execute_result"
    }
   ],
   "source": [
    "h = sxs.load('SXS:BBH:0305/Lev/rhOverM', extrapolation_order=2)\n",
    "type(h)"
   ]
  },
  {
   "cell_type": "markdown",
   "id": "e9c66130-17e2-4b31-9d65-35577758de68",
   "metadata": {},
   "source": [
    "The returned object is already a `WaveformModes` object, which has lots of handy methods (see the `scri` documentation [here](https://scri.readthedocs.io/en/latest/_autosummary/scri.html#scri.WaveformModes))."
   ]
  },
  {
   "cell_type": "code",
   "execution_count": 3,
   "id": "e137a4f1",
   "metadata": {},
   "outputs": [],
   "source": [
    "h = read_waveforms.sxs_to_scri_WM(h)"
   ]
  },
  {
   "cell_type": "code",
   "execution_count": 4,
   "id": "d040216e-1828-4492-a19d-51f5f61b2f82",
   "metadata": {
    "scrolled": true
   },
   "outputs": [
    {
     "name": "stdout",
     "output_type": "stream",
     "text": [
      "Found the following files to load from the SXS catalog:\n",
      "    SXS:BBH:0305v5/Lev6/metadata.json\n"
     ]
    }
   ],
   "source": [
    "# We can also easily load metadata associated with the simulation\n",
    "metadata = sxs.load('SXS:BBH:0305/Lev/metadata.json')"
   ]
  },
  {
   "cell_type": "code",
   "execution_count": 5,
   "id": "4e7952da-f96f-48ba-b04e-85b0346a80fe",
   "metadata": {},
   "outputs": [],
   "source": [
    "M = metadata.remnant_mass\n",
    "chi_f = metadata.remnant_dimensionless_spin\n",
    "chi = np.linalg.norm(chi_f)"
   ]
  },
  {
   "cell_type": "code",
   "execution_count": 6,
   "id": "6550b4ac-d4f2-447d-8d46-8a44c19189b5",
   "metadata": {},
   "outputs": [],
   "source": [
    "# If needed, rotate waveform so remnant spin is aligned with z to get best fit \n",
    "th_z = np.arccos(chi_f[2]/np.linalg.norm(chi_f))\n",
    "r_dir = np.cross([0,0,1],chi_f)\n",
    "r_dir = th_z * r_dir / np.linalg.norm(r_dir)\n",
    "q = quaternion.from_rotation_vector(-r_dir)\n",
    "h.rotate_physical_system(q);\n",
    "\n",
    "# Shift the time array of the WaveformModes object so that zero is at the peak\n",
    "# Cut off waveform for times greater than 90M \n",
    "h_shifted = h.copy()[np.argmin(abs(h.t - 0.)):np.argmin(abs(h.t - 90))+1,:]\n",
    "h_shifted.t = h_shifted.t - h_shifted.t[0]"
   ]
  },
  {
   "cell_type": "markdown",
   "id": "b9a4a755-8312-4f11-8835-77e16ecc3385",
   "metadata": {},
   "source": [
    "### Perform a seven overtone fit to the $h_{22}$ mode using the `qnmfits` package:"
   ]
  },
  {
   "cell_type": "code",
   "execution_count": 7,
   "id": "07ddc8b0",
   "metadata": {},
   "outputs": [],
   "source": [
    "qnms = [(2,2,n,1) for n in range(7+1)]\n",
    "t_0 = 0\n",
    "\n",
    "best_fit = qnmfits.fit(\n",
    "    h_shifted,\n",
    "    qnms,\n",
    "    M,\n",
    "    chi,\n",
    "    t_0=t_0,\n",
    "    spherical_modes=[(2,2),(3,2)]\n",
    ")\n",
    "\n"
   ]
  },
  {
   "cell_type": "code",
   "execution_count": 8,
   "id": "280c0825",
   "metadata": {},
   "outputs": [
    {
     "data": {
      "text/plain": [
       "{(2, 2, 0, 1): (0.05679533355205416+0.2337293470023977j),\n",
       " (2, 2, 1, 1): (-0.9788414998761575-11.703213016605524j),\n",
       " (2, 2, 2, 1): (-1.6161150022651394+139.61196839226312j),\n",
       " (2, 2, 3, 1): (9.789989340248885-705.5331343809603j),\n",
       " (2, 2, 4, 1): (150.9359124358413+1751.4612726382265j),\n",
       " (2, 2, 5, 1): (-451.1276114124514-2119.4344329078376j),\n",
       " (2, 2, 6, 1): (398.7522135182466+1232.4070075386346j),\n",
       " (2, 2, 7, 1): (-105.74184753267002-287.0537566723667j)}"
      ]
     },
     "execution_count": 8,
     "metadata": {},
     "output_type": "execute_result"
    }
   ],
   "source": [
    "best_fit"
   ]
  },
  {
   "cell_type": "code",
   "execution_count": 15,
   "id": "c0e1c810",
   "metadata": {},
   "outputs": [],
   "source": [
    "Q = qnmfits.qnm_modes_as(chi, M, best_fit, h_shifted, t_0=0., t_ref=0.)"
   ]
  },
  {
   "cell_type": "code",
   "execution_count": 16,
   "id": "d33c2a20",
   "metadata": {},
   "outputs": [
    {
     "data": {
      "text/plain": [
       "0.7735242842066112"
      ]
     },
     "execution_count": 16,
     "metadata": {},
     "output_type": "execute_result"
    }
   ],
   "source": [
    "qnmfits.mismatch(h_shifted, Q, 0., 90.)"
   ]
  }
 ],
 "metadata": {
  "kernelspec": {
   "display_name": "Python 3 (ipykernel)",
   "language": "python",
   "name": "python3"
  },
  "language_info": {
   "codemirror_mode": {
    "name": "ipython",
    "version": 3
   },
   "file_extension": ".py",
   "mimetype": "text/x-python",
   "name": "python",
   "nbconvert_exporter": "python",
   "pygments_lexer": "ipython3",
   "version": "3.10.8"
  }
 },
 "nbformat": 4,
 "nbformat_minor": 5
}
