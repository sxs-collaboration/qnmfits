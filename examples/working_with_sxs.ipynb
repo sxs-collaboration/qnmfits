{
 "cells": [
  {
   "cell_type": "code",
   "execution_count": 1,
   "id": "0b62769c-751c-4082-b8b8-ff9c5fafa73c",
   "metadata": {},
   "outputs": [],
   "source": [
    "import sys\n",
    "sys.path.insert(0,'/Library/Frameworks/Python.framework/Versions/3.10/lib/python3.10/site-packages')\n",
    "sys.path.insert(0,'../')\n",
    "\n",
    "import sxs\n",
    "import spherical_functions as sf\n",
    "import quaternion\n",
    "import qnmfits\n",
    "import numpy as np\n",
    "import matplotlib.pyplot as plt\n",
    "\n",
    "sys.path.insert(0,'../qnmfits')\n",
    "import read_waveforms"
   ]
  },
  {
   "cell_type": "markdown",
   "id": "8f993976-e200-4edf-ac91-c3b8a198c357",
   "metadata": {},
   "source": [
    "### The `sxs` package lets us easily load SXS waveforms:"
   ]
  },
  {
   "cell_type": "code",
   "execution_count": 3,
   "id": "f18c959a-a1cd-49c9-a220-ce7c9fdac7eb",
   "metadata": {},
   "outputs": [
    {
     "name": "stdout",
     "output_type": "stream",
     "text": [
      "Found the following files to load from the SXS catalog:\n",
      "    SXS:BBH:0305v5/Lev6/rhOverM_Asymptotic_GeometricUnits_CoM.h5\n"
     ]
    },
    {
     "data": {
      "text/plain": [
       "sxs.waveforms.waveform_modes.WaveformModes"
      ]
     },
     "execution_count": 3,
     "metadata": {},
     "output_type": "execute_result"
    }
   ],
   "source": [
    "h = sxs.load('SXS:BBH:0305/Lev/rhOverM', extrapolation_order=2)\n",
    "type(h)"
   ]
  },
  {
   "cell_type": "markdown",
   "id": "e9c66130-17e2-4b31-9d65-35577758de68",
   "metadata": {},
   "source": [
    "The returned object is an sxs `WaveformModes` object. Converting to a scri `WaveformModes` object allows us to use lots of handy methods (see the `scri` documentation [here](https://scri.readthedocs.io/en/latest/_autosummary/scri.html#scri.WaveformModes))."
   ]
  },
  {
   "cell_type": "code",
   "execution_count": 4,
   "id": "e137a4f1",
   "metadata": {},
   "outputs": [
    {
     "data": {
      "text/plain": [
       "scri.waveform_modes.WaveformModes"
      ]
     },
     "execution_count": 4,
     "metadata": {},
     "output_type": "execute_result"
    }
   ],
   "source": [
    "h = read_waveforms.sxs_to_scri_WM(h)\n",
    "type(h)"
   ]
  },
  {
   "cell_type": "code",
   "execution_count": 5,
   "id": "d040216e-1828-4492-a19d-51f5f61b2f82",
   "metadata": {
    "scrolled": true
   },
   "outputs": [
    {
     "name": "stdout",
     "output_type": "stream",
     "text": [
      "Found the following files to load from the SXS catalog:\n",
      "    SXS:BBH:0305v5/Lev6/metadata.json\n"
     ]
    }
   ],
   "source": [
    "# We can also easily load metadata associated with the simulation\n",
    "metadata = sxs.load('SXS:BBH:0305/Lev/metadata.json')\n",
    "\n",
    "M = metadata.remnant_mass\n",
    "chi_f = metadata.remnant_dimensionless_spin\n",
    "chi = np.linalg.norm(chi_f)"
   ]
  },
  {
   "cell_type": "markdown",
   "id": "a02978cd",
   "metadata": {},
   "source": [
    "One can also load preloaded data and metada using \n",
    "`scri.SpEC.read_from_h5('/path/to/rhOverM_Asymptotic_GeometricUnits_CoM_0305.h5/Extrapolated_N2.dir')`\n",
    "and\n",
    "`sxs.metadata.Metadata.from_file('/path/to/metadata_0305.txt', cache_json=False)`\n"
   ]
  },
  {
   "cell_type": "markdown",
   "id": "07899303",
   "metadata": {},
   "source": [
    "Prepare the waveform for fitting by:\n",
    "1) shifting the peak to be at $t=0M$,\\\n",
    "2) aligning the remnants spin with $+\\hat{z}$, and \\\n",
    "3) cutting off any times in which we are not interested. "
   ]
  },
  {
   "cell_type": "code",
   "execution_count": 6,
   "id": "6550b4ac-d4f2-447d-8d46-8a44c19189b5",
   "metadata": {},
   "outputs": [],
   "source": [
    "# Shift peak of waveform to be at t=0M.\n",
    "trim_ind = h.max_norm_index()\n",
    "h.t -= h.t[trim_ind]\n",
    "\n",
    "# If needed, rotate waveform so remnant spin is aligned with z-axis to get best fit \n",
    "th_z = np.arccos(chi_f[2]/np.linalg.norm(chi_f))\n",
    "r_dir = np.cross([0,0,1],chi_f)\n",
    "r_dir = th_z * r_dir / np.linalg.norm(r_dir)\n",
    "q = quaternion.from_rotation_vector(-r_dir)\n",
    "h.rotate_physical_system(q);\n",
    "\n",
    "# Cut off waveform for times greater than 90M \n",
    "h_shifted = h.copy()[np.argmin(abs(h.t - 0.)):np.argmin(abs(h.t - 90))+1,:]"
   ]
  },
  {
   "cell_type": "markdown",
   "id": "b9a4a755-8312-4f11-8835-77e16ecc3385",
   "metadata": {},
   "source": [
    "### Perform a seven overtone fit to the $h_{22}$ mode at $t_0 = t_{\\mathrm{peak}}$ using the `qnmfits` package:"
   ]
  },
  {
   "cell_type": "code",
   "execution_count": 7,
   "id": "4ed55d31",
   "metadata": {},
   "outputs": [],
   "source": [
    "qnms = [(2,2,n,1) for n in range(7+1)]\n",
    "t_0 = 0.\n",
    "\n",
    "best_fit = qnmfits.fit(\n",
    "    h_shifted,\n",
    "    chi, \n",
    "    M,\n",
    "    qnms,\n",
    "    spherical_modes=[(2,2)],\n",
    "    t_0=t_0\n",
    ")"
   ]
  },
  {
   "cell_type": "code",
   "execution_count": 8,
   "id": "280c0825",
   "metadata": {},
   "outputs": [
    {
     "data": {
      "text/plain": [
       "{(2, 2, 0, 1): (0.14437528321369733+0.9515425435474294j),\n",
       " (2, 2, 1, 1): (3.06104265918855-2.7093762966259467j),\n",
       " (2, 2, 2, 1): (-10.246299728808225+3.443272406058986j),\n",
       " (2, 2, 3, 1): (20.418309082379228-6.8003534034627595j),\n",
       " (2, 2, 4, 1): (-26.115570479328504+15.832247758891933j),\n",
       " (2, 2, 5, 1): (18.147288497837422-20.107629010397105j),\n",
       " (2, 2, 6, 1): (-5.778945161817656+11.789713020711439j),\n",
       " (2, 2, 7, 1): (0.7092756681293291-2.5940446687125003j)}"
      ]
     },
     "execution_count": 8,
     "metadata": {},
     "output_type": "execute_result"
    }
   ],
   "source": [
    "best_fit"
   ]
  },
  {
   "cell_type": "markdown",
   "id": "77cd49e8",
   "metadata": {},
   "source": [
    "From this, one can build an analytical ringdown waveform with the `best_fit` amplitudes and calculate the mismatch over all modes."
   ]
  },
  {
   "cell_type": "code",
   "execution_count": 9,
   "id": "c0e1c810",
   "metadata": {},
   "outputs": [],
   "source": [
    "Q = qnmfits.qnm_modes_as(chi, M, best_fit, h_shifted, t_0=0., t_ref=0.)"
   ]
  },
  {
   "cell_type": "code",
   "execution_count": 10,
   "id": "d33c2a20",
   "metadata": {},
   "outputs": [
    {
     "data": {
      "text/plain": [
       "0.29653955619237427"
      ]
     },
     "execution_count": 10,
     "metadata": {},
     "output_type": "execute_result"
    }
   ],
   "source": [
    "qnmfits.mismatch(h_shifted, Q, 0., 90., spherical_modes=None)"
   ]
  },
  {
   "cell_type": "code",
   "execution_count": 12,
   "id": "13b3604c",
   "metadata": {},
   "outputs": [
    {
     "data": {
      "image/png": "[encoded data removed]",
      "text/plain": [
       "<Figure size 640x480 with 1 Axes>"
      ]
     },
     "metadata": {},
     "output_type": "display_data"
    }
   ],
   "source": [
    "plt.xlabel(r'$\\left(u-u_{\\mathrm{peak}}\\right)/M$')\n",
    "plt.ylabel(r'$R/M\\,\\mathrm{Re}[h_{22}]$')\n",
    "\n",
    "plt.plot(h_shifted.t, h_shifted.data[:,h_shifted.index(2,2).real])\n",
    "plt.plot(Q.t, Q.data[:,Q.index(2,2)].real, '--')\n",
    "plt.show()"
   ]
  },
  {
   "cell_type": "markdown",
   "id": "125a167b",
   "metadata": {},
   "source": [
    "### Perform a simultaneous fit for seven overtones and remnant spin and mass:"
   ]
  },
  {
   "cell_type": "code",
   "execution_count": 13,
   "id": "a8e4a24e",
   "metadata": {},
   "outputs": [],
   "source": [
    "chi_fit, M_fit, qnm_fits, _ = qnmfits.fit_chi_M_and_modes(h_shifted, qnms, t_0=0., maxiter=10000, xtol=1e-8, ftol=1e-8)"
   ]
  },
  {
   "cell_type": "code",
   "execution_count": 14,
   "id": "5970f194",
   "metadata": {},
   "outputs": [
    {
     "data": {
      "text/plain": [
       "{(2, 2, 0, 1): (0.1371159369293715+0.9530714253688121j),\n",
       " (2, 2, 1, 1): (3.1535604986415953-2.71991368491889j),\n",
       " (2, 2, 2, 1): (-10.862780062699766+3.601505051527732j),\n",
       " (2, 2, 3, 1): (22.713327598649325-7.916368513428436j),\n",
       " (2, 2, 4, 1): (-30.538687542825993+19.57554423860551j),\n",
       " (2, 2, 5, 1): (22.287871717754083-25.71097920087418j),\n",
       " (2, 2, 6, 1): (-7.603241790644682+15.568527225317904j),\n",
       " (2, 2, 7, 1): (1.0526861461402912-3.5459490293882716j)}"
      ]
     },
     "execution_count": 14,
     "metadata": {},
     "output_type": "execute_result"
    }
   ],
   "source": [
    "qnm_fits"
   ]
  },
  {
   "cell_type": "markdown",
   "id": "9659550e",
   "metadata": {},
   "source": [
    "Calculate the error as defined in Eq. 31 of https://arxiv.org/pdf/2110.15922"
   ]
  },
  {
   "cell_type": "code",
   "execution_count": 15,
   "id": "6b63521b",
   "metadata": {},
   "outputs": [
    {
     "name": "stdout",
     "output_type": "stream",
     "text": [
      "0.0003573988563112666\n"
     ]
    }
   ],
   "source": [
    "print(np.sqrt(((M_fit-M)/M)**2.0+(chi_fit-chi)**2.0))"
   ]
  },
  {
   "cell_type": "markdown",
   "id": "8d613abd",
   "metadata": {},
   "source": [
    "Build the analytical waveform with the best fit modes and calculate the mismatch over all modes."
   ]
  },
  {
   "cell_type": "code",
   "execution_count": 16,
   "id": "29a4b1cf",
   "metadata": {},
   "outputs": [],
   "source": [
    "Q = qnmfits.qnm_modes_as(chi_fit, M_fit, qnm_fits, h_shifted, t_0=0., t_ref=0.)"
   ]
  },
  {
   "cell_type": "code",
   "execution_count": 17,
   "id": "f4c19508",
   "metadata": {},
   "outputs": [
    {
     "data": {
      "text/plain": [
       "0.29653967612254617"
      ]
     },
     "execution_count": 17,
     "metadata": {},
     "output_type": "execute_result"
    }
   ],
   "source": [
    "qnmfits.mismatch(h_shifted, Q, 0., 90.)"
   ]
  }
 ],
 "metadata": {
  "kernelspec": {
   "display_name": "Python 3 (ipykernel)",
   "language": "python",
   "name": "python3"
  },
  "language_info": {
   "codemirror_mode": {
    "name": "ipython",
    "version": 3
   },
   "file_extension": ".py",
   "mimetype": "text/x-python",
   "name": "python",
   "nbconvert_exporter": "python",
   "pygments_lexer": "ipython3",
   "version": "3.10.8"
  }
 },
 "nbformat": 4,
 "nbformat_minor": 5
}
