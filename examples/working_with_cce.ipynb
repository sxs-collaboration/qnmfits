{
 "cells": [
  {
   "cell_type": "code",
   "execution_count": 24,
   "metadata": {},
   "outputs": [],
   "source": [
    "import numpy as np\n",
    "import matplotlib.pyplot as plt\n",
    "\n",
    "import qnmfits\n",
    "import scri"
   ]
  },
  {
   "cell_type": "code",
   "execution_count": 2,
   "metadata": {},
   "outputs": [],
   "source": [
    "cce = qnmfits.cce()"
   ]
  },
  {
   "cell_type": "code",
   "execution_count": 3,
   "metadata": {},
   "outputs": [
    {
     "data": {
      "text/plain": [
       "[{'name': 'SXS:BBH_ExtCCE:0001',\n",
       "  'url': 'https://zenodo.org/record/4734836',\n",
       "  'preferred_R': '292'},\n",
       " {'name': 'SXS:BBH_ExtCCE:0002', 'url': 'https://zenodo.org/record/4734902'}]"
      ]
     },
     "execution_count": 3,
     "metadata": {},
     "output_type": "execute_result"
    }
   ],
   "source": [
    "cce.catalog"
   ]
  },
  {
   "cell_type": "code",
   "execution_count": 4,
   "metadata": {},
   "outputs": [
    {
     "name": "stdout",
     "output_type": "stream",
     "text": [
      "Downloading https://zenodo.org/record/4734836/files/Lev5/rhOverM_BondiCce_R0292_CoM.json\n",
      "Downloading https://zenodo.org/record/4734836/files/Lev5/rMPsi4_BondiCce_R0292_CoM.json\n",
      "Downloading https://zenodo.org/record/4734836/files/Lev5/r2Psi3_BondiCce_R0292_CoM.json\n",
      "Downloading https://zenodo.org/record/4734836/files/Lev5/r3Psi2OverM_BondiCce_R0292_CoM.json\n",
      "Downloading https://zenodo.org/record/4734836/files/Lev5/r4Psi1OverM2_BondiCce_R0292_CoM.json\n",
      "Downloading https://zenodo.org/record/4734836/files/Lev5/r5Psi0OverM3_BondiCce_R0292_CoM.json\n"
     ]
    }
   ],
   "source": [
    "abd, metadata = cce.load(1)"
   ]
  },
  {
   "cell_type": "code",
   "execution_count": 20,
   "metadata": {},
   "outputs": [],
   "source": [
    "h = abd.sigma.bar"
   ]
  },
  {
   "cell_type": "code",
   "execution_count": 22,
   "metadata": {},
   "outputs": [
    {
     "data": {
      "text/plain": [
       "6"
      ]
     },
     "execution_count": 22,
     "metadata": {},
     "output_type": "execute_result"
    }
   ],
   "source": [
    "h.index(2,0)"
   ]
  },
  {
   "cell_type": "code",
   "execution_count": 23,
   "metadata": {},
   "outputs": [
    {
     "ename": "AttributeError",
     "evalue": "'ModesTimeSeries' object has no attribute 'max_norm_index'",
     "output_type": "error",
     "traceback": [
      "\u001b[0;31m---------------------------------------------------------------------------\u001b[0m",
      "\u001b[0;31mAttributeError\u001b[0m                            Traceback (most recent call last)",
      "\u001b[1;32m/Users/eliot/Documents/Research/Ringdown/sxs-collaboration/qnmfits/examples/working_with_cce.ipynb Cell 7\u001b[0m line \u001b[0;36m1\n\u001b[0;32m----> <a href='vscode-notebook-cell:/Users/eliot/Documents/Research/Ringdown/sxs-collaboration/qnmfits/examples/working_with_cce.ipynb#X21sZmlsZQ%3D%3D?line=0'>1</a>\u001b[0m h\u001b[39m.\u001b[39;49mmax_norm_index()\n",
      "\u001b[0;31mAttributeError\u001b[0m: 'ModesTimeSeries' object has no attribute 'max_norm_index'"
     ]
    }
   ],
   "source": [
    "h.max_norm_index()"
   ]
  },
  {
   "cell_type": "code",
   "execution_count": 31,
   "metadata": {},
   "outputs": [],
   "source": [
    "h_wm = scri.WaveformModes(\n",
    "      dataType = scri.h,\n",
    "      t = h.t,\n",
    "      data = np.array(h)[:,lm(abs(h.s),-abs(h.s),0):],\n",
    "      ell_min = 2,\n",
    "      ell_max = h.ell_max    ,\n",
    "      frameType = scri.Inertial,\n",
    "      r_is_scaled_out = True,\n",
    "      m_is_scaled_out = True,\n",
    ")"
   ]
  },
  {
   "cell_type": "code",
   "execution_count": 33,
   "metadata": {},
   "outputs": [],
   "source": [
    "h_wm.t = h_wm.t-h_wm.t[h_wm.max_norm_index()]"
   ]
  },
  {
   "cell_type": "code",
   "execution_count": 37,
   "metadata": {},
   "outputs": [
    {
     "data": {
      "text/plain": [
       "array([-1720.12751316, -1719.12752172, -1718.12753031, ...,\n",
       "        5155.90920498,  5156.9091269 ,  5157.9090489 ])"
      ]
     },
     "execution_count": 37,
     "metadata": {},
     "output_type": "execute_result"
    }
   ],
   "source": [
    "h_wm.t"
   ]
  },
  {
   "cell_type": "code",
   "execution_count": 38,
   "metadata": {},
   "outputs": [
    {
     "data": {
      "text/plain": [
       "[<matplotlib.lines.Line2D at 0x168fb3a00>]"
      ]
     },
     "execution_count": 38,
     "metadata": {},
     "output_type": "execute_result"
    },
    {
     "data": {
      "image/png": "[encoded data removed]",
      "text/plain": [
       "<Figure size 640x480 with 1 Axes>"
      ]
     },
     "metadata": {},
     "output_type": "display_data"
    }
   ],
   "source": [
    "fig, ax = plt.subplots()\n",
    "\n",
    "ax.plot(h_wm.t, np.real(h_wm.data[:, h_wm.index(2,0)]))\n",
    "\n",
    "# ax.set_xlim(-100, 100)\n"
   ]
  },
  {
   "cell_type": "code",
   "execution_count": null,
   "metadata": {},
   "outputs": [],
   "source": []
  }
 ],
 "metadata": {
  "kernelspec": {
   "display_name": "Python 3",
   "language": "python",
   "name": "python3"
  },
  "language_info": {
   "codemirror_mode": {
    "name": "ipython",
    "version": 3
   },
   "file_extension": ".py",
   "mimetype": "text/x-python",
   "name": "python",
   "nbconvert_exporter": "python",
   "pygments_lexer": "ipython3",
   "version": "3.10.12"
  },
  "orig_nbformat": 4
 },
 "nbformat": 4,
 "nbformat_minor": 2
}
